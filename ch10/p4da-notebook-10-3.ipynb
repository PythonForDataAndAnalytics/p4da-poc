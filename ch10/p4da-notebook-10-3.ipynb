{
 "cells": [
  {
   "cell_type": "markdown",
   "id": "4342ca6c",
   "metadata": {},
   "source": [
    "## Section 10.3 Getting Information About DataFrame Data"
   ]
  },
  {
   "cell_type": "code",
   "execution_count": 1,
   "id": "0f1de9be",
   "metadata": {},
   "outputs": [],
   "source": [
    "import pandas as pd\n",
    "dfsp = pd.read_csv(\"SP500_Constituents.csv\")"
   ]
  },
  {
   "cell_type": "code",
   "execution_count": 2,
   "id": "25b76e08",
   "metadata": {},
   "outputs": [],
   "source": [
    "dfsp = pd.read_csv(\"SP500_Constituents.csv\", index_col='Symbol')"
   ]
  },
  {
   "cell_type": "code",
   "execution_count": 3,
   "id": "5419075a",
   "metadata": {},
   "outputs": [
    {
     "data": {
      "text/html": [
       "<div>\n",
       "<style scoped>\n",
       "    .dataframe tbody tr th:only-of-type {\n",
       "        vertical-align: middle;\n",
       "    }\n",
       "\n",
       "    .dataframe tbody tr th {\n",
       "        vertical-align: top;\n",
       "    }\n",
       "\n",
       "    .dataframe thead th {\n",
       "        text-align: right;\n",
       "    }\n",
       "</style>\n",
       "<table border=\"1\" class=\"dataframe\">\n",
       "  <thead>\n",
       "    <tr style=\"text-align: right;\">\n",
       "      <th></th>\n",
       "      <th>Security</th>\n",
       "      <th>SEC filings</th>\n",
       "      <th>GICS Sector</th>\n",
       "      <th>GICS Sub-Industry</th>\n",
       "      <th>Headquarters Location</th>\n",
       "      <th>Date first added</th>\n",
       "      <th>CIK</th>\n",
       "      <th>Founded</th>\n",
       "    </tr>\n",
       "    <tr>\n",
       "      <th>Symbol</th>\n",
       "      <th></th>\n",
       "      <th></th>\n",
       "      <th></th>\n",
       "      <th></th>\n",
       "      <th></th>\n",
       "      <th></th>\n",
       "      <th></th>\n",
       "      <th></th>\n",
       "    </tr>\n",
       "  </thead>\n",
       "  <tbody>\n",
       "    <tr>\n",
       "      <th>MMM</th>\n",
       "      <td>3M Company</td>\n",
       "      <td>reports</td>\n",
       "      <td>Industrials</td>\n",
       "      <td>Industrial Conglomerates</td>\n",
       "      <td>St. Paul, Minnesota</td>\n",
       "      <td>1976-08-09</td>\n",
       "      <td>66740</td>\n",
       "      <td>1902</td>\n",
       "    </tr>\n",
       "    <tr>\n",
       "      <th>ABT</th>\n",
       "      <td>Abbott Laboratories</td>\n",
       "      <td>reports</td>\n",
       "      <td>Health Care</td>\n",
       "      <td>Health Care Equipment</td>\n",
       "      <td>North Chicago, Illinois</td>\n",
       "      <td>1964-03-31</td>\n",
       "      <td>1800</td>\n",
       "      <td>1888</td>\n",
       "    </tr>\n",
       "    <tr>\n",
       "      <th>ABBV</th>\n",
       "      <td>AbbVie Inc.</td>\n",
       "      <td>reports</td>\n",
       "      <td>Health Care</td>\n",
       "      <td>Pharmaceuticals</td>\n",
       "      <td>North Chicago, Illinois</td>\n",
       "      <td>2012-12-31</td>\n",
       "      <td>1551152</td>\n",
       "      <td>2013 (1888)</td>\n",
       "    </tr>\n",
       "    <tr>\n",
       "      <th>ABMD</th>\n",
       "      <td>ABIOMED Inc</td>\n",
       "      <td>reports</td>\n",
       "      <td>Health Care</td>\n",
       "      <td>Health Care Equipment</td>\n",
       "      <td>Danvers, Massachusetts</td>\n",
       "      <td>2018-05-31</td>\n",
       "      <td>815094</td>\n",
       "      <td>1981</td>\n",
       "    </tr>\n",
       "    <tr>\n",
       "      <th>ACN</th>\n",
       "      <td>Accenture plc</td>\n",
       "      <td>reports</td>\n",
       "      <td>Information Technology</td>\n",
       "      <td>IT Consulting &amp; Other Services</td>\n",
       "      <td>Dublin, Ireland</td>\n",
       "      <td>2011-07-06</td>\n",
       "      <td>1467373</td>\n",
       "      <td>1989</td>\n",
       "    </tr>\n",
       "  </tbody>\n",
       "</table>\n",
       "</div>"
      ],
      "text/plain": [
       "                   Security SEC filings             GICS Sector  \\\n",
       "Symbol                                                            \n",
       "MMM              3M Company     reports             Industrials   \n",
       "ABT     Abbott Laboratories     reports             Health Care   \n",
       "ABBV            AbbVie Inc.     reports             Health Care   \n",
       "ABMD            ABIOMED Inc     reports             Health Care   \n",
       "ACN           Accenture plc     reports  Information Technology   \n",
       "\n",
       "                     GICS Sub-Industry    Headquarters Location  \\\n",
       "Symbol                                                            \n",
       "MMM           Industrial Conglomerates      St. Paul, Minnesota   \n",
       "ABT              Health Care Equipment  North Chicago, Illinois   \n",
       "ABBV                   Pharmaceuticals  North Chicago, Illinois   \n",
       "ABMD             Health Care Equipment   Danvers, Massachusetts   \n",
       "ACN     IT Consulting & Other Services          Dublin, Ireland   \n",
       "\n",
       "       Date first added      CIK      Founded  \n",
       "Symbol                                         \n",
       "MMM          1976-08-09    66740         1902  \n",
       "ABT          1964-03-31     1800         1888  \n",
       "ABBV         2012-12-31  1551152  2013 (1888)  \n",
       "ABMD         2018-05-31   815094         1981  \n",
       "ACN          2011-07-06  1467373         1989  "
      ]
     },
     "execution_count": 3,
     "metadata": {},
     "output_type": "execute_result"
    }
   ],
   "source": [
    "dfsp.head()"
   ]
  },
  {
   "cell_type": "code",
   "execution_count": 4,
   "id": "dd0cd3b7",
   "metadata": {},
   "outputs": [],
   "source": [
    "dfsp5 = dfsp.head()"
   ]
  },
  {
   "cell_type": "code",
   "execution_count": 5,
   "id": "94aff800",
   "metadata": {},
   "outputs": [
    {
     "data": {
      "text/plain": [
       "505"
      ]
     },
     "execution_count": 5,
     "metadata": {},
     "output_type": "execute_result"
    }
   ],
   "source": [
    "len(dfsp)"
   ]
  },
  {
   "cell_type": "code",
   "execution_count": 6,
   "id": "b1c4042a",
   "metadata": {},
   "outputs": [
    {
     "data": {
      "text/plain": [
       "(505, 8)"
      ]
     },
     "execution_count": 6,
     "metadata": {},
     "output_type": "execute_result"
    }
   ],
   "source": [
    "dfsp.shape"
   ]
  },
  {
   "cell_type": "code",
   "execution_count": 7,
   "id": "cd053e2a",
   "metadata": {},
   "outputs": [
    {
     "name": "stdout",
     "output_type": "stream",
     "text": [
      "<class 'pandas.core.frame.DataFrame'>\n",
      "Index: 505 entries, MMM to ZTS\n",
      "Data columns (total 8 columns):\n",
      " #   Column                 Non-Null Count  Dtype \n",
      "---  ------                 --------------  ----- \n",
      " 0   Security               505 non-null    object\n",
      " 1   SEC filings            505 non-null    object\n",
      " 2   GICS Sector            505 non-null    object\n",
      " 3   GICS Sub-Industry      505 non-null    object\n",
      " 4   Headquarters Location  505 non-null    object\n",
      " 5   Date first added       450 non-null    object\n",
      " 6   CIK                    505 non-null    int64 \n",
      " 7   Founded                502 non-null    object\n",
      "dtypes: int64(1), object(7)\n",
      "memory usage: 35.5+ KB\n"
     ]
    }
   ],
   "source": [
    "dfsp.info()"
   ]
  },
  {
   "cell_type": "code",
   "execution_count": null,
   "id": "6cccd327",
   "metadata": {},
   "outputs": [],
   "source": []
  }
 ],
 "metadata": {
  "kernelspec": {
   "display_name": "Python 3 (ipykernel)",
   "language": "python",
   "name": "python3"
  },
  "language_info": {
   "codemirror_mode": {
    "name": "ipython",
    "version": 3
   },
   "file_extension": ".py",
   "mimetype": "text/x-python",
   "name": "python",
   "nbconvert_exporter": "python",
   "pygments_lexer": "ipython3",
   "version": "3.9.7"
  }
 },
 "nbformat": 4,
 "nbformat_minor": 5
}
